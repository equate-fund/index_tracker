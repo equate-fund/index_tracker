{
 "cells": [
  {
   "cell_type": "markdown",
   "metadata": {},
   "source": [
    "# Setup"
   ]
  },
  {
   "cell_type": "code",
   "execution_count": 25,
   "metadata": {},
   "outputs": [],
   "source": [
    "# Basic Python\n",
    "\n",
    "import numpy as np\n",
    "import pandas as pd\n",
    "import matplotlib.pyplot as plt\n",
    "from datetime import datetime, timedelta, date\n",
    "from tqdm import tqdm\n",
    "\n",
    "# Quant Libraries\n",
    "\n",
    "import yfinance as yf # yahoo finance PyPi for getting stock data"
   ]
  },
  {
   "cell_type": "code",
   "execution_count": 41,
   "metadata": {},
   "outputs": [
    {
     "name": "stderr",
     "output_type": "stream",
     "text": [
      "<ipython-input-41-ee1c50a2637c>:120: SettingWithCopyWarning: \n",
      "A value is trying to be set on a copy of a slice from a DataFrame\n",
      "\n",
      "See the caveats in the documentation: https://pandas.pydata.org/pandas-docs/stable/user_guide/indexing.html#returning-a-view-versus-a-copy\n",
      "  prtf_df['real_date'][i] = datetime.strptime(prtf_df['date'][i], date_format)\n",
      "<ipython-input-41-ee1c50a2637c>:120: SettingWithCopyWarning: \n",
      "A value is trying to be set on a copy of a slice from a DataFrame\n",
      "\n",
      "See the caveats in the documentation: https://pandas.pydata.org/pandas-docs/stable/user_guide/indexing.html#returning-a-view-versus-a-copy\n",
      "  prtf_df['real_date'][i] = datetime.strptime(prtf_df['date'][i], date_format)\n",
      "<ipython-input-41-ee1c50a2637c>:120: SettingWithCopyWarning: \n",
      "A value is trying to be set on a copy of a slice from a DataFrame\n",
      "\n",
      "See the caveats in the documentation: https://pandas.pydata.org/pandas-docs/stable/user_guide/indexing.html#returning-a-view-versus-a-copy\n",
      "  prtf_df['real_date'][i] = datetime.strptime(prtf_df['date'][i], date_format)\n",
      "<ipython-input-41-ee1c50a2637c>:120: SettingWithCopyWarning: \n",
      "A value is trying to be set on a copy of a slice from a DataFrame\n",
      "\n",
      "See the caveats in the documentation: https://pandas.pydata.org/pandas-docs/stable/user_guide/indexing.html#returning-a-view-versus-a-copy\n",
      "  prtf_df['real_date'][i] = datetime.strptime(prtf_df['date'][i], date_format)\n",
      "<ipython-input-41-ee1c50a2637c>:120: SettingWithCopyWarning: \n",
      "A value is trying to be set on a copy of a slice from a DataFrame\n",
      "\n",
      "See the caveats in the documentation: https://pandas.pydata.org/pandas-docs/stable/user_guide/indexing.html#returning-a-view-versus-a-copy\n",
      "  prtf_df['real_date'][i] = datetime.strptime(prtf_df['date'][i], date_format)\n",
      "<ipython-input-41-ee1c50a2637c>:120: SettingWithCopyWarning: \n",
      "A value is trying to be set on a copy of a slice from a DataFrame\n",
      "\n",
      "See the caveats in the documentation: https://pandas.pydata.org/pandas-docs/stable/user_guide/indexing.html#returning-a-view-versus-a-copy\n",
      "  prtf_df['real_date'][i] = datetime.strptime(prtf_df['date'][i], date_format)\n",
      "<ipython-input-41-ee1c50a2637c>:120: SettingWithCopyWarning: \n",
      "A value is trying to be set on a copy of a slice from a DataFrame\n",
      "\n",
      "See the caveats in the documentation: https://pandas.pydata.org/pandas-docs/stable/user_guide/indexing.html#returning-a-view-versus-a-copy\n",
      "  prtf_df['real_date'][i] = datetime.strptime(prtf_df['date'][i], date_format)\n",
      "<ipython-input-41-ee1c50a2637c>:120: SettingWithCopyWarning: \n",
      "A value is trying to be set on a copy of a slice from a DataFrame\n",
      "\n",
      "See the caveats in the documentation: https://pandas.pydata.org/pandas-docs/stable/user_guide/indexing.html#returning-a-view-versus-a-copy\n",
      "  prtf_df['real_date'][i] = datetime.strptime(prtf_df['date'][i], date_format)\n",
      "<ipython-input-41-ee1c50a2637c>:120: SettingWithCopyWarning: \n",
      "A value is trying to be set on a copy of a slice from a DataFrame\n",
      "\n",
      "See the caveats in the documentation: https://pandas.pydata.org/pandas-docs/stable/user_guide/indexing.html#returning-a-view-versus-a-copy\n",
      "  prtf_df['real_date'][i] = datetime.strptime(prtf_df['date'][i], date_format)\n",
      "<ipython-input-41-ee1c50a2637c>:120: SettingWithCopyWarning: \n",
      "A value is trying to be set on a copy of a slice from a DataFrame\n",
      "\n",
      "See the caveats in the documentation: https://pandas.pydata.org/pandas-docs/stable/user_guide/indexing.html#returning-a-view-versus-a-copy\n",
      "  prtf_df['real_date'][i] = datetime.strptime(prtf_df['date'][i], date_format)\n",
      "<ipython-input-41-ee1c50a2637c>:120: SettingWithCopyWarning: \n",
      "A value is trying to be set on a copy of a slice from a DataFrame\n",
      "\n",
      "See the caveats in the documentation: https://pandas.pydata.org/pandas-docs/stable/user_guide/indexing.html#returning-a-view-versus-a-copy\n",
      "  prtf_df['real_date'][i] = datetime.strptime(prtf_df['date'][i], date_format)\n",
      "<ipython-input-41-ee1c50a2637c>:120: SettingWithCopyWarning: \n",
      "A value is trying to be set on a copy of a slice from a DataFrame\n",
      "\n",
      "See the caveats in the documentation: https://pandas.pydata.org/pandas-docs/stable/user_guide/indexing.html#returning-a-view-versus-a-copy\n",
      "  prtf_df['real_date'][i] = datetime.strptime(prtf_df['date'][i], date_format)\n",
      "<ipython-input-41-ee1c50a2637c>:120: SettingWithCopyWarning: \n",
      "A value is trying to be set on a copy of a slice from a DataFrame\n",
      "\n",
      "See the caveats in the documentation: https://pandas.pydata.org/pandas-docs/stable/user_guide/indexing.html#returning-a-view-versus-a-copy\n",
      "  prtf_df['real_date'][i] = datetime.strptime(prtf_df['date'][i], date_format)\n"
     ]
    }
   ],
   "source": [
    "def curr_val(df):\n",
    "\n",
    "    time = datetime.now()\n",
    "\n",
    "    if time.weekday() == 5:\n",
    "        time = time - timedelta(1)\n",
    "    elif time.weekday() == 6:\n",
    "        time = time - timedelta(2)\n",
    "        \n",
    "\n",
    "    date = df['real_date']\n",
    "    value = df['value']\n",
    "\n",
    "    index = 0\n",
    "\n",
    "    while df['active'][index] == 1:\n",
    "        index += 1\n",
    "\n",
    "    week_prtf = curr_prtf(df, date[index - 1])\n",
    "\n",
    "    old_price = prtf_price(week_prtf, date[index - 1], True)\n",
    "    new_price = prtf_price(week_prtf, time, False)\n",
    "\n",
    "    val = value[index - 1] * new_price / old_price\n",
    "\n",
    "    return (val - 1) * 100, time\n",
    "\n",
    "def curr_prtf(df, date):\n",
    "\n",
    "    stocks = stock_list(df)\n",
    "    prtf = {}\n",
    "\n",
    "    for i in range(len(stocks)):\n",
    "\n",
    "        prtf[stocks[i]] = df.loc[df['real_date'] == date, stocks[i]].values[0]\n",
    "\n",
    "    return prtf\n",
    "\n",
    "def prtf_price(prtf, date, morning):\n",
    "\n",
    "    tot_price = 0\n",
    "    stocks = list(prtf.keys())\n",
    "    values = list(prtf.values())\n",
    "\n",
    "    for i in range(len(prtf)):\n",
    "\n",
    "        tot_price += price(stocks[i], date, morning) * values[i]\n",
    "\n",
    "    return tot_price\n",
    "\n",
    "def price(stk, date, morning):\n",
    "\n",
    "    if morning:\n",
    "        try:\n",
    "            return yf.download(stk, start=date, end=date + timedelta(1), interval='1d', progress=False)['Open'].values[0]\n",
    "        except:\n",
    "            return yf.download(stk, start=date + timedelta(1), end=date + timedelta(2), interval='1d', progress=False)['Open'].values[0]\n",
    "    else:\n",
    "        return yf.download(stk, start=date, end=date, interval='1d' , progress=False)['Close'].values[0]\n",
    "\n",
    "def update_row(df):\n",
    "\n",
    "    index = 0\n",
    "\n",
    "    while df['active'][index] == 1:\n",
    "        index += 1\n",
    "\n",
    "    print(index)\n",
    "\n",
    "    curr_date = df['real_date'][index]\n",
    "    prev_date = df['real_date'][index - 1]\n",
    "\n",
    "    print(curr_date)\n",
    "    print(datetime.now())\n",
    "\n",
    "    if curr_date > datetime.now():\n",
    "        print(\"It is not recent enough to make that change\")\n",
    "\n",
    "    else:\n",
    "        print(\"Making that change\")\n",
    "\n",
    "        stocks = stock_list(df)\n",
    "        new_prices =[]\n",
    "\n",
    "        for j in range(len(stocks)):\n",
    "            print(stocks[j])\n",
    "            new_price = price(stocks[j], curr_date, True)\n",
    "            old_price = price(stocks[j], prev_date, True)\n",
    "            \n",
    "            new_prices.append(df[stocks[j]][index - 1] * new_price / old_price)\n",
    "\n",
    "        sum = 0 # Calculating average\n",
    "        for k in range(len(stocks)):\n",
    "            sum += new_prices[k]\n",
    "        for q in range(len(stocks)):\n",
    "            df[stocks[q]][index] = new_prices[q] / sum + df[stocks[q]][index]\n",
    "\n",
    "        week_prtf = curr_prtf(df, prev_date)\n",
    "\n",
    "        old_prtf = prtf_price(week_prtf, prev_date, True)\n",
    "        new_prtf = prtf_price(week_prtf, curr_date, True)\n",
    "\n",
    "        df['value'][index] = df['value'][index - 1] * new_prtf / old_prtf\n",
    "\n",
    "        df['active'][index] = 1\n",
    "        df.to_csv('equate_prtf.csv', index=False)\n",
    "        print(\"Changes made\")\n",
    "\n",
    "def stock_list(df):\n",
    "\n",
    "    lst = df.columns.to_list()\n",
    "    lst.remove('real_date')\n",
    "    return lst[3:-1]\n",
    "\n",
    "prtf_df = pd.read_csv('equate_prtf.csv')\n",
    "date_format = \"%Y-%m-%d\"\n",
    "prtf_df['real_date'] = None\n",
    "prtf_df['S&P 500'] = None\n",
    "for i in range(len(prtf_df)):\n",
    "    prtf_df['real_date'][i] = datetime.strptime(prtf_df['date'][i], date_format)"
   ]
  },
  {
   "cell_type": "markdown",
   "metadata": {},
   "source": [
    "# Current Performance"
   ]
  },
  {
   "cell_type": "code",
   "execution_count": 42,
   "metadata": {},
   "outputs": [
    {
     "name": "stdout",
     "output_type": "stream",
     "text": [
      "['L.TO', 'DOL.TO', 'KILO.TO', 'VFV.TO', 'ALA.TO']\n"
     ]
    }
   ],
   "source": [
    "print(stock_list(prtf_df))"
   ]
  },
  {
   "cell_type": "code",
   "execution_count": 43,
   "metadata": {},
   "outputs": [
    {
     "name": "stderr",
     "output_type": "stream",
     "text": [
      "\n",
      "1 Failed download:\n",
      "['L.TO']: Exception('%ticker%: No price data found, symbol may be delisted (1d 2024-02-19 00:00:00 -> 2024-02-20 00:00:00)')\n",
      "\n",
      "1 Failed download:\n",
      "['DOL.TO']: Exception('%ticker%: No price data found, symbol may be delisted (1d 2024-02-19 00:00:00 -> 2024-02-20 00:00:00)')\n"
     ]
    },
    {
     "name": "stderr",
     "output_type": "stream",
     "text": [
      "\n",
      "1 Failed download:\n",
      "['KILO.TO']: Exception('%ticker%: No price data found, symbol may be delisted (1d 2024-02-19 00:00:00 -> 2024-02-20 00:00:00)')\n",
      "\n",
      "1 Failed download:\n",
      "['VFV.TO']: Exception('%ticker%: No price data found, symbol may be delisted (1d 2024-02-19 00:00:00 -> 2024-02-20 00:00:00)')\n",
      "\n",
      "1 Failed download:\n",
      "['ALA.TO']: Exception('%ticker%: No price data found, symbol may be delisted (1d 2024-02-19 00:00:00 -> 2024-02-20 00:00:00)')\n",
      "\n",
      "1 Failed download:\n",
      "['L.TO']: Exception('%ticker%: No price data found, symbol may be delisted (1d 2024-02-19 00:00:00 -> 2024-02-20 00:00:00)')\n",
      "\n",
      "1 Failed download:\n",
      "['DOL.TO']: Exception('%ticker%: No price data found, symbol may be delisted (1d 2024-02-19 00:00:00 -> 2024-02-20 00:00:00)')\n",
      "\n",
      "1 Failed download:\n",
      "['KILO.TO']: Exception('%ticker%: No price data found, symbol may be delisted (1d 2024-02-19 00:00:00 -> 2024-02-20 00:00:00)')\n",
      "\n",
      "1 Failed download:\n",
      "['VFV.TO']: Exception('%ticker%: No price data found, symbol may be delisted (1d 2024-02-19 00:00:00 -> 2024-02-20 00:00:00)')\n",
      "\n",
      "1 Failed download:\n",
      "['ALA.TO']: Exception('%ticker%: No price data found, symbol may be delisted (1d 2024-02-19 00:00:00 -> 2024-02-20 00:00:00)')\n"
     ]
    },
    {
     "name": "stdout",
     "output_type": "stream",
     "text": [
      "The EQUATE Fund has returned  8.196 % at time  2024-02-23 11:39:00.250801\n"
     ]
    }
   ],
   "source": [
    "results, time = curr_val(prtf_df)\n",
    "\n",
    "print(\"The EQUATE Fund has returned \", round(curr_val(prtf_df)[0], 3), \"% at time \", time)"
   ]
  },
  {
   "cell_type": "markdown",
   "metadata": {},
   "source": [
    "## S&P500 Benchmark"
   ]
  },
  {
   "cell_type": "code",
   "execution_count": 45,
   "metadata": {},
   "outputs": [
    {
     "name": "stdout",
     "output_type": "stream",
     "text": [
      "The S&P500 has returned  7.246 % at time  2024-02-24 11:39:29.429397\n"
     ]
    }
   ],
   "source": [
    "today = datetime.now()\n",
    "date_format = \"%Y-%m-%d\"\n",
    "index_fund = 'VFV.TO'\n",
    "start = datetime.strptime('2024-01-15', date_format)\n",
    "og_price = yf.download(index_fund, start=start, end=start + timedelta(1), interval='1d', progress=False)['Open'].values[0]\n",
    "curr_price = yf.download(index_fund, start=today, end=today + timedelta(1), interval='1d', progress=False)['Close'].values[0]\n",
    "\n",
    "print(\"The S&P500 has returned \", round(100 * (curr_price - og_price) / og_price, 3), \"% at time \", today)"
   ]
  },
  {
   "cell_type": "markdown",
   "metadata": {},
   "source": [
    "## Plotting Returns"
   ]
  },
  {
   "cell_type": "code",
   "execution_count": 59,
   "metadata": {},
   "outputs": [
    {
     "name": "stderr",
     "output_type": "stream",
     "text": [
      "<ipython-input-59-cdffc701d8ad>:6: SettingWithCopyWarning: \n",
      "A value is trying to be set on a copy of a slice from a DataFrame\n",
      "\n",
      "See the caveats in the documentation: https://pandas.pydata.org/pandas-docs/stable/user_guide/indexing.html#returning-a-view-versus-a-copy\n",
      "  prtf_df['S&P 500'][0] = 0\n",
      "<ipython-input-59-cdffc701d8ad>:11: SettingWithCopyWarning: \n",
      "A value is trying to be set on a copy of a slice from a DataFrame\n",
      "\n",
      "See the caveats in the documentation: https://pandas.pydata.org/pandas-docs/stable/user_guide/indexing.html#returning-a-view-versus-a-copy\n",
      "  prtf_df['S&P 500'][index] = price('VFV.TO', prtf_df['real_date'][index], True) / og_price - 1\n",
      "<ipython-input-59-cdffc701d8ad>:11: SettingWithCopyWarning: \n",
      "A value is trying to be set on a copy of a slice from a DataFrame\n",
      "\n",
      "See the caveats in the documentation: https://pandas.pydata.org/pandas-docs/stable/user_guide/indexing.html#returning-a-view-versus-a-copy\n",
      "  prtf_df['S&P 500'][index] = price('VFV.TO', prtf_df['real_date'][index], True) / og_price - 1\n",
      "<ipython-input-59-cdffc701d8ad>:11: SettingWithCopyWarning: \n",
      "A value is trying to be set on a copy of a slice from a DataFrame\n",
      "\n",
      "See the caveats in the documentation: https://pandas.pydata.org/pandas-docs/stable/user_guide/indexing.html#returning-a-view-versus-a-copy\n",
      "  prtf_df['S&P 500'][index] = price('VFV.TO', prtf_df['real_date'][index], True) / og_price - 1\n",
      "<ipython-input-59-cdffc701d8ad>:11: SettingWithCopyWarning: \n",
      "A value is trying to be set on a copy of a slice from a DataFrame\n",
      "\n",
      "See the caveats in the documentation: https://pandas.pydata.org/pandas-docs/stable/user_guide/indexing.html#returning-a-view-versus-a-copy\n",
      "  prtf_df['S&P 500'][index] = price('VFV.TO', prtf_df['real_date'][index], True) / og_price - 1\n",
      "\n",
      "1 Failed download:\n",
      "['VFV.TO']: Exception('%ticker%: No price data found, symbol may be delisted (1d 2024-02-19 00:00:00 -> 2024-02-20 00:00:00)')\n"
     ]
    },
    {
     "name": "stdout",
     "output_type": "stream",
     "text": [
      "2024-01-15 00:00:00\n"
     ]
    },
    {
     "name": "stderr",
     "output_type": "stream",
     "text": [
      "<ipython-input-59-cdffc701d8ad>:11: SettingWithCopyWarning: \n",
      "A value is trying to be set on a copy of a slice from a DataFrame\n",
      "\n",
      "See the caveats in the documentation: https://pandas.pydata.org/pandas-docs/stable/user_guide/indexing.html#returning-a-view-versus-a-copy\n",
      "  prtf_df['S&P 500'][index] = price('VFV.TO', prtf_df['real_date'][index], True) / og_price - 1\n",
      "<ipython-input-59-cdffc701d8ad>:14: SettingWithCopyWarning: \n",
      "A value is trying to be set on a copy of a slice from a DataFrame\n",
      "\n",
      "See the caveats in the documentation: https://pandas.pydata.org/pandas-docs/stable/user_guide/indexing.html#returning-a-view-versus-a-copy\n",
      "  prtf_df['S&P 500'][index] = price('VFV.TO', datetime.now(), True) / og_price - 1\n",
      "\n",
      "1 Failed download:\n",
      "['L.TO']: Exception('%ticker%: No price data found, symbol may be delisted (1d 2024-02-19 00:00:00 -> 2024-02-20 00:00:00)')\n",
      "\n",
      "1 Failed download:\n",
      "['DOL.TO']: Exception('%ticker%: No price data found, symbol may be delisted (1d 2024-02-19 00:00:00 -> 2024-02-20 00:00:00)')\n",
      "\n",
      "1 Failed download:\n",
      "['KILO.TO']: Exception('%ticker%: No price data found, symbol may be delisted (1d 2024-02-19 00:00:00 -> 2024-02-20 00:00:00)')\n",
      "\n",
      "1 Failed download:\n",
      "['VFV.TO']: Exception('%ticker%: No price data found, symbol may be delisted (1d 2024-02-19 00:00:00 -> 2024-02-20 00:00:00)')\n",
      "\n",
      "1 Failed download:\n",
      "['ALA.TO']: Exception('%ticker%: No price data found, symbol may be delisted (1d 2024-02-19 00:00:00 -> 2024-02-20 00:00:00)')\n",
      "<ipython-input-59-cdffc701d8ad>:15: SettingWithCopyWarning: \n",
      "A value is trying to be set on a copy of a slice from a DataFrame\n",
      "\n",
      "See the caveats in the documentation: https://pandas.pydata.org/pandas-docs/stable/user_guide/indexing.html#returning-a-view-versus-a-copy\n",
      "  prtf_df['value'][index], time = curr_val(prtf_df)\n",
      "<ipython-input-59-cdffc701d8ad>:16: SettingWithCopyWarning: \n",
      "A value is trying to be set on a copy of a slice from a DataFrame\n",
      "\n",
      "See the caveats in the documentation: https://pandas.pydata.org/pandas-docs/stable/user_guide/indexing.html#returning-a-view-versus-a-copy\n",
      "  prtf_df['value'][index] = prtf_df['value'][index] / 100 + 1\n"
     ]
    },
    {
     "data": {
      "image/png": "[encoded data removed]",
      "text/plain": [
       "<Figure size 720x432 with 1 Axes>"
      ]
     },
     "metadata": {
      "needs_background": "light"
     },
     "output_type": "display_data"
    },
    {
     "name": "stderr",
     "output_type": "stream",
     "text": [
      "<ipython-input-59-cdffc701d8ad>:29: SettingWithCopyWarning: \n",
      "A value is trying to be set on a copy of a slice from a DataFrame\n",
      "\n",
      "See the caveats in the documentation: https://pandas.pydata.org/pandas-docs/stable/user_guide/indexing.html#returning-a-view-versus-a-copy\n",
      "  prtf_df['value'][index] = 1\n"
     ]
    }
   ],
   "source": [
    "start_date = prtf_df['real_date'][0]\n",
    "print(start_date)\n",
    "\n",
    "og_price = yf.download('VFV.TO', start=prtf_df['real_date'][0], end=prtf_df['real_date'][0] + timedelta(1), interval='1d', progress=False)['Open'].values[0]\n",
    "\n",
    "prtf_df['S&P 500'][0] = 0\n",
    "\n",
    "index = 1\n",
    "\n",
    "while prtf_df['active'][index] == 1:\n",
    "        prtf_df['S&P 500'][index] = price('VFV.TO', prtf_df['real_date'][index], True) / og_price - 1\n",
    "        index += 1\n",
    "\n",
    "prtf_df['S&P 500'][index] = price('VFV.TO', datetime.now(), True) / og_price - 1\n",
    "prtf_df['value'][index], time = curr_val(prtf_df)\n",
    "prtf_df['value'][index] = prtf_df['value'][index] / 100 + 1\n",
    "\n",
    "plt.figure(figsize=(10, 6))\n",
    "plt.plot(prtf_df['real_date'][:index + 1], prtf_df['value'].iloc[:index + 1] - 1, label='EQUATE Fund', marker='o')\n",
    "plt.plot(prtf_df['real_date'][:index + 1], prtf_df['S&P 500'].iloc[:index + 1], label='S&P 500', marker='x')\n",
    "plt.title('EQUATE Fund vs S&P 500') \n",
    "plt.xlabel('Time (2024)')\n",
    "plt.ylabel('Value')\n",
    "plt.legend()\n",
    "plt.grid(True)\n",
    "plt.gca().xaxis.set_major_formatter(plt.matplotlib.dates.DateFormatter('%m-%d'))\n",
    "plt.show()\n",
    "\n",
    "prtf_df['value'][index] = 1"
   ]
  },
  {
   "cell_type": "markdown",
   "metadata": {},
   "source": [
    "# Testing"
   ]
  },
  {
   "cell_type": "code",
   "execution_count": null,
   "metadata": {},
   "outputs": [],
   "source": [
    "[100, 120, 130, 12412, 23423, 23423]"
   ]
  },
  {
   "cell_type": "code",
   "execution_count": 7,
   "metadata": {},
   "outputs": [
    {
     "name": "stderr",
     "output_type": "stream",
     "text": [
      "\n",
      "1 Failed download:\n",
      "['L.TO']: Exception('%ticker%: No price data found, symbol may be delisted (1d 2024-02-19 00:00:00 -> 2024-02-20 00:00:00)')\n"
     ]
    },
    {
     "name": "stdout",
     "output_type": "stream",
     "text": [
      "5\n",
      "2024-02-19 00:00:00\n",
      "2024-02-23 16:55:42.860156\n",
      "Making that change\n",
      "L.TO\n"
     ]
    },
    {
     "name": "stderr",
     "output_type": "stream",
     "text": [
      "\n",
      "1 Failed download:\n",
      "['DOL.TO']: Exception('%ticker%: No price data found, symbol may be delisted (1d 2024-02-19 00:00:00 -> 2024-02-20 00:00:00)')\n"
     ]
    },
    {
     "name": "stdout",
     "output_type": "stream",
     "text": [
      "DOL.TO\n",
      "KILO.TO\n"
     ]
    },
    {
     "name": "stderr",
     "output_type": "stream",
     "text": [
      "\n",
      "1 Failed download:\n",
      "['KILO.TO']: Exception('%ticker%: No price data found, symbol may be delisted (1d 2024-02-19 00:00:00 -> 2024-02-20 00:00:00)')\n",
      "\n",
      "1 Failed download:\n",
      "['VFV.TO']: Exception('%ticker%: No price data found, symbol may be delisted (1d 2024-02-19 00:00:00 -> 2024-02-20 00:00:00)')\n"
     ]
    },
    {
     "name": "stdout",
     "output_type": "stream",
     "text": [
      "VFV.TO\n"
     ]
    },
    {
     "name": "stderr",
     "output_type": "stream",
     "text": [
      "\n",
      "1 Failed download:\n",
      "['ALA.TO']: Exception('%ticker%: No price data found, symbol may be delisted (1d 2024-02-19 00:00:00 -> 2024-02-20 00:00:00)')\n"
     ]
    },
    {
     "name": "stdout",
     "output_type": "stream",
     "text": [
      "ALA.TO\n"
     ]
    },
    {
     "name": "stderr",
     "output_type": "stream",
     "text": [
      "<ipython-input-6-cf187f2e0527>:90: SettingWithCopyWarning: \n",
      "A value is trying to be set on a copy of a slice from a DataFrame\n",
      "\n",
      "See the caveats in the documentation: https://pandas.pydata.org/pandas-docs/stable/user_guide/indexing.html#returning-a-view-versus-a-copy\n",
      "  df[stocks[q]][index] = new_prices[q] / sum + df[stocks[q]][index]\n",
      "<ipython-input-6-cf187f2e0527>:90: SettingWithCopyWarning: \n",
      "A value is trying to be set on a copy of a slice from a DataFrame\n",
      "\n",
      "See the caveats in the documentation: https://pandas.pydata.org/pandas-docs/stable/user_guide/indexing.html#returning-a-view-versus-a-copy\n",
      "  df[stocks[q]][index] = new_prices[q] / sum + df[stocks[q]][index]\n",
      "<ipython-input-6-cf187f2e0527>:90: SettingWithCopyWarning: \n",
      "A value is trying to be set on a copy of a slice from a DataFrame\n",
      "\n",
      "See the caveats in the documentation: https://pandas.pydata.org/pandas-docs/stable/user_guide/indexing.html#returning-a-view-versus-a-copy\n",
      "  df[stocks[q]][index] = new_prices[q] / sum + df[stocks[q]][index]\n",
      "<ipython-input-6-cf187f2e0527>:90: SettingWithCopyWarning: \n",
      "A value is trying to be set on a copy of a slice from a DataFrame\n",
      "\n",
      "See the caveats in the documentation: https://pandas.pydata.org/pandas-docs/stable/user_guide/indexing.html#returning-a-view-versus-a-copy\n",
      "  df[stocks[q]][index] = new_prices[q] / sum + df[stocks[q]][index]\n",
      "<ipython-input-6-cf187f2e0527>:90: SettingWithCopyWarning: \n",
      "A value is trying to be set on a copy of a slice from a DataFrame\n",
      "\n",
      "See the caveats in the documentation: https://pandas.pydata.org/pandas-docs/stable/user_guide/indexing.html#returning-a-view-versus-a-copy\n",
      "  df[stocks[q]][index] = new_prices[q] / sum + df[stocks[q]][index]\n",
      "\n",
      "1 Failed download:\n",
      "['L.TO']: Exception('%ticker%: No price data found, symbol may be delisted (1d 2024-02-19 00:00:00 -> 2024-02-20 00:00:00)')\n",
      "\n",
      "1 Failed download:\n",
      "['DOL.TO']: Exception('%ticker%: No price data found, symbol may be delisted (1d 2024-02-19 00:00:00 -> 2024-02-20 00:00:00)')\n",
      "\n",
      "1 Failed download:\n",
      "['KILO.TO']: Exception('%ticker%: No price data found, symbol may be delisted (1d 2024-02-19 00:00:00 -> 2024-02-20 00:00:00)')\n",
      "\n",
      "1 Failed download:\n",
      "['VFV.TO']: Exception('%ticker%: No price data found, symbol may be delisted (1d 2024-02-19 00:00:00 -> 2024-02-20 00:00:00)')\n",
      "\n",
      "1 Failed download:\n",
      "['ALA.TO']: Exception('%ticker%: No price data found, symbol may be delisted (1d 2024-02-19 00:00:00 -> 2024-02-20 00:00:00)')\n"
     ]
    },
    {
     "name": "stdout",
     "output_type": "stream",
     "text": [
      "Changes made\n"
     ]
    },
    {
     "name": "stderr",
     "output_type": "stream",
     "text": [
      "<ipython-input-6-cf187f2e0527>:97: SettingWithCopyWarning: \n",
      "A value is trying to be set on a copy of a slice from a DataFrame\n",
      "\n",
      "See the caveats in the documentation: https://pandas.pydata.org/pandas-docs/stable/user_guide/indexing.html#returning-a-view-versus-a-copy\n",
      "  df['value'][index] = df['value'][index - 1] * new_prtf / old_prtf\n",
      "<ipython-input-6-cf187f2e0527>:99: SettingWithCopyWarning: \n",
      "A value is trying to be set on a copy of a slice from a DataFrame\n",
      "\n",
      "See the caveats in the documentation: https://pandas.pydata.org/pandas-docs/stable/user_guide/indexing.html#returning-a-view-versus-a-copy\n",
      "  df['active'][index] = 1\n"
     ]
    }
   ],
   "source": [
    "update_row(prtf_df)"
   ]
  }
 ],
 "metadata": {
  "kernelspec": {
   "display_name": "equate",
   "language": "python",
   "name": "python3"
  },
  "language_info": {
   "codemirror_mode": {
    "name": "ipython",
    "version": 3
   },
   "file_extension": ".py",
   "mimetype": "text/x-python",
   "name": "python",
   "nbconvert_exporter": "python",
   "pygments_lexer": "ipython3",
   "version": "3.9.17"
  }
 },
 "nbformat": 4,
 "nbformat_minor": 2
}
